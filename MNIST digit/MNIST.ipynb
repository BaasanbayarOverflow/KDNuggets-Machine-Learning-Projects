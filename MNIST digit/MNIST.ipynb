{
 "cells": [
  {
   "cell_type": "code",
   "execution_count": 1,
   "id": "4330ef2a",
   "metadata": {},
   "outputs": [],
   "source": [
    "import numpy as np\n",
    "import pandas as pd\n",
    "import matplotlib.pyplot as plt\n",
    "import seaborn as sns\n",
    "import tensorflow as tf"
   ]
  },
  {
   "cell_type": "code",
   "execution_count": 2,
   "id": "682797ec",
   "metadata": {},
   "outputs": [
    {
     "name": "stdout",
     "output_type": "stream",
     "text": [
      "Number of available GPU: 1\n"
     ]
    }
   ],
   "source": [
    "physical_device = tf.config.experimental.list_physical_devices('GPU')\n",
    "print(f'Number of available GPU: {len(physical_device)}')\n",
    "\n",
    "try:\n",
    "    tf.config.experimental.set_memory_growth(physical_device[0], True)\n",
    "except:\n",
    "    print('No GPU detected')"
   ]
  },
  {
   "cell_type": "code",
   "execution_count": 3,
   "id": "96881c29",
   "metadata": {},
   "outputs": [
    {
     "name": "stdout",
     "output_type": "stream",
     "text": [
      "X_train data shape: (60000, 28, 28)\n",
      "y_train data shape: (60000,)\n",
      "X_test data shape: (10000, 28, 28)\n",
      "y_test data shape: (10000,)\n"
     ]
    }
   ],
   "source": [
    "(X_train, y_train), (X_test, y_test) = tf.keras.datasets.mnist.load_data()\n",
    "\n",
    "print(f\"X_train data shape: {X_train.shape}\")\n",
    "print(f\"y_train data shape: {y_train.shape}\")\n",
    "print(f\"X_test data shape: {X_test.shape}\")\n",
    "print(f\"y_test data shape: {y_test.shape}\")"
   ]
  },
  {
   "cell_type": "code",
   "execution_count": 4,
   "id": "dfebebb4",
   "metadata": {},
   "outputs": [],
   "source": [
    "X_train_norm = X_train.astype('float32')\n",
    "X_test_norm = X_test.astype('float32')\n",
    "\n",
    "X_train_norm = X_train_norm / 255\n",
    "X_test_norm = X_test_norm / 255\n",
    "\n",
    "X_train_norm = X_train_norm.reshape((X_train_norm.shape[0], 28, 28, 1))\n",
    "X_test_norm = X_test_norm.reshape((X_test_norm.shape[0], 28, 28, 1))\n",
    "\n",
    "y_train_one = tf.keras.utils.to_categorical(y_train) \n",
    "y_test_one = tf.keras.utils.to_categorical(y_test)"
   ]
  },
  {
   "cell_type": "code",
   "execution_count": 5,
   "id": "e8ffc709",
   "metadata": {},
   "outputs": [
    {
     "name": "stdout",
     "output_type": "stream",
     "text": [
      "X_train data shape: (60000, 28, 28, 1)\n",
      "y_train data shape: (60000, 10)\n",
      "X_test data shape: (10000, 28, 28, 1)\n",
      "y_test data shape: (10000, 10)\n"
     ]
    }
   ],
   "source": [
    "print(f\"X_train data shape: {X_train_norm.shape}\")\n",
    "print(f\"y_train data shape: {y_train_one.shape}\")\n",
    "print(f\"X_test data shape: {X_test_norm.shape}\")\n",
    "print(f\"y_test data shape: {y_test_one.shape}\")"
   ]
  },
  {
   "cell_type": "code",
   "execution_count": 6,
   "id": "10277a8e",
   "metadata": {},
   "outputs": [],
   "source": [
    "def createModelCNN():\n",
    "    model = tf.keras.models.Sequential()\n",
    "    \n",
    "    model.add(tf.keras.layers.Conv2D(32, (3, 3), activation='relu', kernel_initializer='he_uniform', input_shape=(28, 28, 1)))\n",
    "    model.add(tf.keras.layers.MaxPooling2D((2, 2)))\n",
    "    \n",
    "    model.add(tf.keras.layers.Conv2D(64, (3, 3), activation='relu'))\n",
    "    model.add(tf.keras.layers.MaxPooling2D(2, 2))\n",
    "    \n",
    "    model.add(tf.keras.layers.Flatten())\n",
    "    model.add(tf.keras.layers.Dropout(0.3))\n",
    "    model.add(tf.keras.layers.Dense(128, activation='relu', kernel_initializer='he_uniform'))\n",
    "    model.add(tf.keras.layers.Dense(64, activation='relu'))\n",
    "    model.add(tf.keras.layers.Dense(y_train_one[0].shape[0], activation='softmax'))\n",
    "    \n",
    "    opt = tf.keras.optimizers.SGD(learning_rate=0.01, momentum=0.9, nesterov=True)\n",
    "    model.compile(optimizer=opt, \n",
    "                      loss='categorical_crossentropy', \n",
    "                          metrics=['accuracy'])\n",
    "    return model"
   ]
  },
  {
   "cell_type": "code",
   "execution_count": 7,
   "id": "8b2e4b46",
   "metadata": {},
   "outputs": [
    {
     "name": "stdout",
     "output_type": "stream",
     "text": [
      "Model: \"sequential\"\n",
      "_________________________________________________________________\n",
      "Layer (type)                 Output Shape              Param #   \n",
      "=================================================================\n",
      "conv2d (Conv2D)              (None, 26, 26, 32)        320       \n",
      "_________________________________________________________________\n",
      "max_pooling2d (MaxPooling2D) (None, 13, 13, 32)        0         \n",
      "_________________________________________________________________\n",
      "conv2d_1 (Conv2D)            (None, 11, 11, 64)        18496     \n",
      "_________________________________________________________________\n",
      "max_pooling2d_1 (MaxPooling2 (None, 5, 5, 64)          0         \n",
      "_________________________________________________________________\n",
      "flatten (Flatten)            (None, 1600)              0         \n",
      "_________________________________________________________________\n",
      "dropout (Dropout)            (None, 1600)              0         \n",
      "_________________________________________________________________\n",
      "dense (Dense)                (None, 128)               204928    \n",
      "_________________________________________________________________\n",
      "dense_1 (Dense)              (None, 64)                8256      \n",
      "_________________________________________________________________\n",
      "dense_2 (Dense)              (None, 10)                650       \n",
      "=================================================================\n",
      "Total params: 232,650\n",
      "Trainable params: 232,650\n",
      "Non-trainable params: 0\n",
      "_________________________________________________________________\n"
     ]
    }
   ],
   "source": [
    "model_cnn = createModelCNN()\n",
    "model_cnn.summary()"
   ]
  },
  {
   "cell_type": "code",
   "execution_count": 8,
   "id": "27c6e598",
   "metadata": {},
   "outputs": [
    {
     "name": "stdout",
     "output_type": "stream",
     "text": [
      "Epoch 1/10\n",
      "938/938 [==============================] - 10s 11ms/step - loss: 0.2063 - accuracy: 0.9343 - val_loss: 0.0551 - val_accuracy: 0.9821\n",
      "Epoch 2/10\n",
      "938/938 [==============================] - 13s 14ms/step - loss: 0.0712 - accuracy: 0.9776 - val_loss: 0.0383 - val_accuracy: 0.9872\n",
      "Epoch 3/10\n",
      "938/938 [==============================] - 14s 15ms/step - loss: 0.0509 - accuracy: 0.9838 - val_loss: 0.0303 - val_accuracy: 0.9902\n",
      "Epoch 4/10\n",
      "938/938 [==============================] - 13s 14ms/step - loss: 0.0432 - accuracy: 0.9866 - val_loss: 0.0301 - val_accuracy: 0.9898\n",
      "Epoch 5/10\n",
      "938/938 [==============================] - 15s 16ms/step - loss: 0.0356 - accuracy: 0.9886 - val_loss: 0.0314 - val_accuracy: 0.9904\n",
      "Epoch 6/10\n",
      "938/938 [==============================] - 15s 16ms/step - loss: 0.0318 - accuracy: 0.9898 - val_loss: 0.0274 - val_accuracy: 0.9913\n",
      "Epoch 7/10\n",
      "938/938 [==============================] - 16s 17ms/step - loss: 0.0262 - accuracy: 0.9918 - val_loss: 0.0278 - val_accuracy: 0.9912\n",
      "Epoch 8/10\n",
      "938/938 [==============================] - 14s 15ms/step - loss: 0.0258 - accuracy: 0.9913 - val_loss: 0.0242 - val_accuracy: 0.9926\n",
      "Epoch 9/10\n",
      "938/938 [==============================] - 11s 11ms/step - loss: 0.0220 - accuracy: 0.9932 - val_loss: 0.0231 - val_accuracy: 0.9921\n",
      "Epoch 10/10\n",
      "938/938 [==============================] - 11s 11ms/step - loss: 0.0195 - accuracy: 0.9935 - val_loss: 0.0237 - val_accuracy: 0.9925\n"
     ]
    }
   ],
   "source": [
    "history = model_cnn.fit(X_train_norm, y_train_one, \n",
    "                           epochs=10, batch_size=64,\n",
    "                               validation_data=(X_test_norm, y_test_one), verbose=1)"
   ]
  },
  {
   "cell_type": "code",
   "execution_count": 45,
   "id": "a9f0fc94",
   "metadata": {},
   "outputs": [
    {
     "data": {
      "text/plain": [
       "<AxesSubplot:xlabel='Epochs', ylabel='Accuracy'>"
      ]
     },
     "execution_count": 45,
     "metadata": {},
     "output_type": "execute_result"
    },
    {
     "data": {
      "image/png": "[encoded data removed]",
      "text/plain": [
       "<Figure size 864x504 with 2 Axes>"
      ]
     },
     "metadata": {
      "needs_background": "light"
     },
     "output_type": "display_data"
    }
   ],
   "source": [
    "fig = plt.figure(figsize=(12, 7))\n",
    "ax1 = fig.add_subplot(211)\n",
    "ax1.grid(True)\n",
    "ax1.set_xlabel('Epochs')\n",
    "ax1.set_ylabel('Loss')\n",
    "sns.lineplot(x=np.arange(0, 10, 1), y=history.history['loss'], ax=ax1, color='red', label='Loss on training data')\n",
    "sns.lineplot(x=np.arange(0, 10, 1), y=history.history['val_loss'], ax=ax1, color='blue', label='Loss on validation data')\n",
    "\n",
    "ax2 = fig.add_subplot(212)\n",
    "ax2.grid(True)\n",
    "ax2.set_xlabel('Epochs')\n",
    "ax2.set_ylabel('Accuracy')\n",
    "sns.lineplot(x=np.arange(0, 10, 1), y=history.history['accuracy'], ax=ax2, color='red', label='Accuracy on traning data')\n",
    "sns.lineplot(x=np.arange(0, 10, 1), y=history.history['val_accuracy'], ax=ax2, label='Accuracy on validation data')"
   ]
  },
  {
   "cell_type": "code",
   "execution_count": 53,
   "id": "fe919674",
   "metadata": {},
   "outputs": [
    {
     "name": "stdout",
     "output_type": "stream",
     "text": [
      "313/313 [==============================] - 2s 7ms/step - loss: 0.0237 - accuracy: 0.9925\n",
      "Model accuracy on test data: 99.3%\n",
      "Model loss on test data: 0.023711159825325012\n"
     ]
    }
   ],
   "source": [
    "loss, acc = model_cnn.evaluate(x=X_test_norm, y=y_test_one)\n",
    "print(f'Model accuracy on test data: {round(acc, 3) * 100}%')\n",
    "print(f'Model loss on test data: {round(loss, 4)}')"
   ]
  },
  {
   "cell_type": "code",
   "execution_count": null,
   "id": "42fd5fc9",
   "metadata": {},
   "outputs": [],
   "source": []
  }
 ],
 "metadata": {
  "kernelspec": {
   "display_name": "Python 3 (ipykernel)",
   "language": "python",
   "name": "python3"
  },
  "language_info": {
   "codemirror_mode": {
    "name": "ipython",
    "version": 3
   },
   "file_extension": ".py",
   "mimetype": "text/x-python",
   "name": "python",
   "nbconvert_exporter": "python",
   "pygments_lexer": "ipython3",
   "version": "3.7.13"
  }
 },
 "nbformat": 4,
 "nbformat_minor": 5
}
